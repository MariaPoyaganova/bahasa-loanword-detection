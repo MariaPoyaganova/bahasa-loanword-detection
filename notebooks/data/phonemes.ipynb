{
 "cells": [
  {
   "cell_type": "markdown",
   "metadata": {},
   "source": [
    "# PHONEMES: TRANSCRIPTION & PREPROCESSING"
   ]
  },
  {
   "cell_type": "markdown",
   "metadata": {},
   "source": [
    "This notebook covers the phonemes part of the project and **briefly**:\n",
    "\n",
    "0. describes the **phonetic set in Indonesian** \n",
    "\n",
    "\n",
    "2. explains the choice of the **phonetic transcription**\n",
    "\n",
    "\n",
    "3. 'walks through' the phonemes **preprocessing**"
   ]
  },
  {
   "cell_type": "markdown",
   "metadata": {},
   "source": [
    "### 0. PHONEME SET IN INDONESIAN ###"
   ]
  },
  {
   "cell_type": "markdown",
   "metadata": {},
   "source": [
    "According to Soderberg (2008), **Bahasa Indonesia has 32 phonemes**:\n",
    "\n",
    "**Vowels** (/a/, /e/, /ə/, /i/, /o/, /u/)\n",
    "\n",
    "**Diphthongs** (/ai̯/, /au̯/, /oi̯/)\n",
    "\n",
    "**Plosives** (/b/, /d/, /g/, /k/, /ʔ/, /p/, /t/)\n",
    "\n",
    "**Affricates**\n",
    "(/tʃ/, /dʒ/)\n",
    "\n",
    "**Nasals** (/m/, /n/, /ɲ/, /ŋ/)\n",
    "\n",
    "**Trill** (/r/) \n",
    "\n",
    "**Fricatives** (/f/, /h/, /x/, /s/, /ʃ/, /z/)\n",
    "\n",
    "**Approximants** (/w/, /j/)\n",
    "\n",
    "**Lateral approximant** (/l/)\n"
   ]
  },
  {
   "cell_type": "markdown",
   "metadata": {},
   "source": [
    "### 1. MODULES AND LOADING DATA ###"
   ]
  },
  {
   "cell_type": "code",
   "execution_count": 2,
   "metadata": {},
   "outputs": [],
   "source": [
    "import pandas as pd"
   ]
  },
  {
   "cell_type": "code",
   "execution_count": 3,
   "metadata": {},
   "outputs": [],
   "source": [
    "df = pd.read_csv('ind_lw2.csv', ';')"
   ]
  },
  {
   "cell_type": "code",
   "execution_count": 5,
   "metadata": {},
   "outputs": [
    {
     "data": {
      "text/html": [
       "<div>\n",
       "<style scoped>\n",
       "    .dataframe tbody tr th:only-of-type {\n",
       "        vertical-align: middle;\n",
       "    }\n",
       "\n",
       "    .dataframe tbody tr th {\n",
       "        vertical-align: top;\n",
       "    }\n",
       "\n",
       "    .dataframe thead th {\n",
       "        text-align: right;\n",
       "    }\n",
       "</style>\n",
       "<table border=\"1\" class=\"dataframe\">\n",
       "  <thead>\n",
       "    <tr style=\"text-align: right;\">\n",
       "      <th></th>\n",
       "      <th>value</th>\n",
       "      <th>segments</th>\n",
       "      <th>language</th>\n",
       "      <th>borrowing_score</th>\n",
       "      <th>age_label</th>\n",
       "      <th>donor</th>\n",
       "    </tr>\n",
       "  </thead>\n",
       "  <tbody>\n",
       "    <tr>\n",
       "      <th>0</th>\n",
       "      <td>dunia</td>\n",
       "      <td>['d', 'u', 'n', 'i', 'a']</td>\n",
       "      <td>Indonesian</td>\n",
       "      <td>1.0</td>\n",
       "      <td>Early Malay</td>\n",
       "      <td>Arabic</td>\n",
       "    </tr>\n",
       "    <tr>\n",
       "      <th>1</th>\n",
       "      <td>alam</td>\n",
       "      <td>['a', 'l', 'a', 'm']</td>\n",
       "      <td>Indonesian</td>\n",
       "      <td>1.0</td>\n",
       "      <td>Early Malay</td>\n",
       "      <td>Arabic</td>\n",
       "    </tr>\n",
       "    <tr>\n",
       "      <th>2</th>\n",
       "      <td>jagat</td>\n",
       "      <td>['dʒ', 'a', 'g', 'a', 't']</td>\n",
       "      <td>Indonesian</td>\n",
       "      <td>1.0</td>\n",
       "      <td>Early Malay</td>\n",
       "      <td>Sanskrit</td>\n",
       "    </tr>\n",
       "    <tr>\n",
       "      <th>3</th>\n",
       "      <td>buana</td>\n",
       "      <td>['b', 'u', 'a', 'n', 'a']</td>\n",
       "      <td>Indonesian</td>\n",
       "      <td>1.0</td>\n",
       "      <td>Early Malay</td>\n",
       "      <td>Sanskrit</td>\n",
       "    </tr>\n",
       "    <tr>\n",
       "      <th>4</th>\n",
       "      <td>darat</td>\n",
       "      <td>['d', 'a', 'r', 'a', 't']</td>\n",
       "      <td>Indonesian</td>\n",
       "      <td>0.0</td>\n",
       "      <td>Prehistorical</td>\n",
       "      <td>NaN</td>\n",
       "    </tr>\n",
       "    <tr>\n",
       "      <th>5</th>\n",
       "      <td>tanah</td>\n",
       "      <td>['t', 'a', 'n', 'a', 'h']</td>\n",
       "      <td>Indonesian</td>\n",
       "      <td>0.0</td>\n",
       "      <td>Prehistorical</td>\n",
       "      <td>NaN</td>\n",
       "    </tr>\n",
       "    <tr>\n",
       "      <th>6</th>\n",
       "      <td>bumi</td>\n",
       "      <td>['b', 'u', 'm', 'i']</td>\n",
       "      <td>Indonesian</td>\n",
       "      <td>1.0</td>\n",
       "      <td>Early Malay</td>\n",
       "      <td>Sanskrit</td>\n",
       "    </tr>\n",
       "    <tr>\n",
       "      <th>7</th>\n",
       "      <td>tanah</td>\n",
       "      <td>['t', 'a', 'n', 'a', 'h']</td>\n",
       "      <td>Indonesian</td>\n",
       "      <td>0.0</td>\n",
       "      <td>Prehistorical</td>\n",
       "      <td>NaN</td>\n",
       "    </tr>\n",
       "    <tr>\n",
       "      <th>8</th>\n",
       "      <td>debu</td>\n",
       "      <td>['d', 'e', 'b', 'u']</td>\n",
       "      <td>Indonesian</td>\n",
       "      <td>0.0</td>\n",
       "      <td>Prehistorical</td>\n",
       "      <td>NaN</td>\n",
       "    </tr>\n",
       "    <tr>\n",
       "      <th>9</th>\n",
       "      <td>serdak</td>\n",
       "      <td>['s', 'e', 'r', 'd', 'a', 'ʔ']</td>\n",
       "      <td>Indonesian</td>\n",
       "      <td>0.0</td>\n",
       "      <td>Prehistorical</td>\n",
       "      <td>NaN</td>\n",
       "    </tr>\n",
       "  </tbody>\n",
       "</table>\n",
       "</div>"
      ],
      "text/plain": [
       "    value                        segments    language  borrowing_score  \\\n",
       "0   dunia       ['d', 'u', 'n', 'i', 'a']  Indonesian              1.0   \n",
       "1    alam            ['a', 'l', 'a', 'm']  Indonesian              1.0   \n",
       "2   jagat      ['dʒ', 'a', 'g', 'a', 't']  Indonesian              1.0   \n",
       "3   buana       ['b', 'u', 'a', 'n', 'a']  Indonesian              1.0   \n",
       "4   darat       ['d', 'a', 'r', 'a', 't']  Indonesian              0.0   \n",
       "5   tanah       ['t', 'a', 'n', 'a', 'h']  Indonesian              0.0   \n",
       "6    bumi            ['b', 'u', 'm', 'i']  Indonesian              1.0   \n",
       "7   tanah       ['t', 'a', 'n', 'a', 'h']  Indonesian              0.0   \n",
       "8    debu            ['d', 'e', 'b', 'u']  Indonesian              0.0   \n",
       "9  serdak  ['s', 'e', 'r', 'd', 'a', 'ʔ']  Indonesian              0.0   \n",
       "\n",
       "       age_label     donor  \n",
       "0    Early Malay    Arabic  \n",
       "1    Early Malay    Arabic  \n",
       "2    Early Malay  Sanskrit  \n",
       "3    Early Malay  Sanskrit  \n",
       "4  Prehistorical       NaN  \n",
       "5  Prehistorical       NaN  \n",
       "6    Early Malay  Sanskrit  \n",
       "7  Prehistorical       NaN  \n",
       "8  Prehistorical       NaN  \n",
       "9  Prehistorical       NaN  "
      ]
     },
     "execution_count": 5,
     "metadata": {},
     "output_type": "execute_result"
    }
   ],
   "source": [
    "df[:10]"
   ]
  },
  {
   "cell_type": "markdown",
   "metadata": {},
   "source": [
    "### 2. TRANSCRIPTION CHOICE ###"
   ]
  },
  {
   "cell_type": "markdown",
   "metadata": {},
   "source": [
    "To have the words represented as their phonetic transcriptions, we had two choices: either using transcriptions provided by WOLD developers or implementing an external Python package transforming graphemic representation to a phonetic one. \n",
    "\n",
    "Since phonemes are key features in our classification, we decided to examine both transcription variants and their outputs in order to choose the more sufficient one. \n",
    "\n",
    "\n"
   ]
  },
  {
   "cell_type": "markdown",
   "metadata": {},
   "source": [
    "#### 2.1. Epitran lib"
   ]
  },
  {
   "cell_type": "markdown",
   "metadata": {},
   "source": [
    "One of a few grapheme-to-phoneme modules supporting the Indonesian language is `epitran`. We tested it on our words and empirically examined the transcriptions. "
   ]
  },
  {
   "cell_type": "markdown",
   "metadata": {},
   "source": [
    "We have noticed that the transcriptions miss some important cases. \n",
    "\n",
    "First, plosive [ʔ]\twas transcribed as [k]. Ex: ombak -> [o m b a k], instead of a correct [o m b a ʔ]. In the language, the plosives [k] and [ʔ] are independent and quite common phonemes, differentiation of which is crucial for our research. \n",
    "\n",
    "Secondly, the diphthong [aʊ] was considered as two separate vowels [a] and [u]. Ex: pulau -> [p u l a u] instead of [p u l aʊ]. We assume that diphthongs should be represented as single units. This is important for our future sequential models and especially important for the Bag of Sounds, analysing each phoneme unit independently. "
   ]
  },
  {
   "cell_type": "markdown",
   "metadata": {},
   "source": [
    "**2.2. WOLD representation**"
   ]
  },
  {
   "cell_type": "code",
   "execution_count": 6,
   "metadata": {},
   "outputs": [],
   "source": [
    "new_dfseg = []\n",
    "\n",
    "for i in df.segments:\n",
    "    new_dfseg.append(eval(i))\n",
    "\n",
    "df.segments = new_dfseg"
   ]
  },
  {
   "cell_type": "code",
   "execution_count": 7,
   "metadata": {},
   "outputs": [],
   "source": [
    "segments = []\n",
    "\n",
    "for i in df.segments:\n",
    "    segments.extend(i)"
   ]
  },
  {
   "cell_type": "code",
   "execution_count": 12,
   "metadata": {},
   "outputs": [],
   "source": [
    "all_phonemes = []\n",
    "\n",
    "for l in df.segments:\n",
    "    for s in l:\n",
    "        if s not in all_phonemes:\n",
    "            all_phonemes.append(s)"
   ]
  },
  {
   "cell_type": "code",
   "execution_count": 13,
   "metadata": {},
   "outputs": [
    {
     "data": {
      "text/plain": [
       "{'+',\n",
       " 'A/a',\n",
       " 'J/dʒ',\n",
       " 'K/k',\n",
       " 'M/m',\n",
       " 'R/r',\n",
       " 'S/s',\n",
       " 'a',\n",
       " 'aɪ',\n",
       " 'aʊ',\n",
       " 'aː',\n",
       " 'b',\n",
       " 'd',\n",
       " 'dʒ',\n",
       " 'e',\n",
       " 'eː',\n",
       " 'f',\n",
       " 'g',\n",
       " 'h',\n",
       " 'i',\n",
       " 'j',\n",
       " 'k',\n",
       " 'kʰ',\n",
       " 'kʷ',\n",
       " 'l',\n",
       " 'm',\n",
       " 'n',\n",
       " 'o',\n",
       " 'p',\n",
       " 'r',\n",
       " 's',\n",
       " 'ss/s',\n",
       " 't',\n",
       " 'tʃ',\n",
       " 'u',\n",
       " 'v',\n",
       " 'w',\n",
       " 'x',\n",
       " 'z',\n",
       " 'é/e',\n",
       " 'éé/eː',\n",
       " 'ŋ',\n",
       " 'ɲ',\n",
       " 'ʃ',\n",
       " 'ʔ'}"
      ]
     },
     "execution_count": 13,
     "metadata": {},
     "output_type": "execute_result"
    }
   ],
   "source": [
    "set(all_letters)"
   ]
  },
  {
   "cell_type": "markdown",
   "metadata": {},
   "source": [
    "WOLD transcriptions seemed complete and diverse, although we questioned some cases ([A/a], [R/r] and other cases containing the slash symbol). We could not justify their presence as separate units, thus decided to check each word instance containing those phonemes. \n",
    "\n",
    "After displaying those words from the database, we checked the IPA transcriptions for them and figured out that there is no reason for some of them to be separate. [A/a] stood for [a], [R/r] for [r], etc. The exeption was met for [é/e], [éé/eː]: they were depicting vowels not covered by other existing phonemes. "
   ]
  },
  {
   "cell_type": "markdown",
   "metadata": {},
   "source": [
    "We made a decision to use WOLD list of transcriptions, however, to replace unnecessary segments with those which they really refer to. "
   ]
  },
  {
   "cell_type": "markdown",
   "metadata": {},
   "source": [
    "### 3. WOLD PHONEMES: PREPROCESSING ###"
   ]
  },
  {
   "cell_type": "code",
   "execution_count": 14,
   "metadata": {},
   "outputs": [],
   "source": [
    "segments_prep = []\n",
    "\n",
    "for word in df.segments:\n",
    "    phonemes = []\n",
    "    for i in word:\n",
    "        if 'A/a' == i or 'K/k' == i or 'M/m' == i or 'R/r' == i or 'S/s' == i or 'ss/s' == i:\n",
    "            i = i.replace(i,i[-1])\n",
    "            phonemes.append(i)\n",
    "        if 'J/dʒ' in i:\n",
    "            i = i.replace(i, 'dʒ')\n",
    "            phonemes.append(i)\n",
    "        else:\n",
    "            phonemes.append(i)\n",
    "            \n",
    "    segments_prep.append(phonemes)"
   ]
  },
  {
   "cell_type": "code",
   "execution_count": 15,
   "metadata": {},
   "outputs": [],
   "source": [
    "df.segments = segments_prep"
   ]
  },
  {
   "cell_type": "code",
   "execution_count": 16,
   "metadata": {},
   "outputs": [
    {
     "data": {
      "text/plain": [
       "1050            [dʒ, a, ŋ, k, a, r]\n",
       "1051                   [s, a, u, h]\n",
       "1052    [p, e, l, a, b, u, h, a, n]\n",
       "1053             [b, a, n, d, a, r]\n",
       "1054       [m, e, n, d, a, r, a, t]\n",
       "1055         [m, e, m, p, u, ɲ, aɪ]\n",
       "1056                      [a, d, a]\n",
       "1057       [m, e, m, i, l, i, k, i]\n",
       "1058       [m, e, m, i, l, i, k, i]\n",
       "1059       [m, e, ŋ, a, m, b, i, l]\n",
       "Name: segments, dtype: object"
      ]
     },
     "execution_count": 16,
     "metadata": {},
     "output_type": "execute_result"
    }
   ],
   "source": [
    "df.segments[1050:1060]"
   ]
  },
  {
   "cell_type": "markdown",
   "metadata": {},
   "source": [
    "### Resources\n",
    "\n",
    "Haspelmath, Martin and Tadmor, Uri (eds.) 2009. World Loanword Database. Leipzig: Max Planck Institute for Evolutionary Anthropology. (Available online at http://wold.clld.org, Accessed on 2021-02-26.)\n",
    "\n",
    "David R. Mortensen, Siddharth Dalmia, and Patrick Littell. 2018. Epitran: Precision G2P for many languages. In Proceedings of the Eleventh International Conference on Language Resources and Evaluation (LREC 2018), Paris, France. European Language Resources Association (ELRA).\n",
    "\n",
    "Soderberg C.D., Olson K.S. 2008. Indonesian, Journal of the International Phonetic Association, 38(2), pages 209-213.\n",
    "\n"
   ]
  }
 ],
 "metadata": {
  "kernelspec": {
   "display_name": "Python 3",
   "language": "python",
   "name": "python3"
  },
  "language_info": {
   "codemirror_mode": {
    "name": "ipython",
    "version": 3
   },
   "file_extension": ".py",
   "mimetype": "text/x-python",
   "name": "python",
   "nbconvert_exporter": "python",
   "pygments_lexer": "ipython3",
   "version": "3.7.7"
  }
 },
 "nbformat": 4,
 "nbformat_minor": 4
}
